{
  "nbformat": 4,
  "nbformat_minor": 0,
  "metadata": {
    "colab": {
      "provenance": []
    },
    "kernelspec": {
      "name": "python3",
      "display_name": "Python 3"
    },
    "language_info": {
      "name": "python"
    }
  },
  "cells": [
    {
      "cell_type": "code",
      "execution_count": 8,
      "metadata": {
        "colab": {
          "base_uri": "https://localhost:8080/"
        },
        "id": "osl_-ws_Kl9r",
        "outputId": "dc4b394b-be03-48d5-ecdc-6f009f20b28c"
      },
      "outputs": [
        {
          "output_type": "stream",
          "name": "stdout",
          "text": [
            "Epoch 1/5\n",
            "938/938 [==============================] - 55s 58ms/step - loss: 0.1817 - accuracy: 0.9439 - val_loss: 0.0476 - val_accuracy: 0.9855\n",
            "Epoch 2/5\n",
            "938/938 [==============================] - 65s 69ms/step - loss: 0.0517 - accuracy: 0.9840 - val_loss: 0.0401 - val_accuracy: 0.9872\n",
            "Epoch 3/5\n",
            "938/938 [==============================] - 57s 60ms/step - loss: 0.0369 - accuracy: 0.9883 - val_loss: 0.0317 - val_accuracy: 0.9896\n",
            "Epoch 4/5\n",
            "938/938 [==============================] - 52s 55ms/step - loss: 0.0274 - accuracy: 0.9916 - val_loss: 0.0302 - val_accuracy: 0.9911\n",
            "Epoch 5/5\n",
            "938/938 [==============================] - 49s 52ms/step - loss: 0.0234 - accuracy: 0.9926 - val_loss: 0.0306 - val_accuracy: 0.9896\n",
            "313/313 [==============================] - 4s 12ms/step - loss: 0.0306 - accuracy: 0.9896\n",
            "Test Accuracy: 0.9896000027656555\n"
          ]
        }
      ],
      "source": [
        "#Develop python code to fine tune CNN parameters for MNIST classification.\n",
        "import numpy as np\n",
        "from tensorflow.keras.datasets import mnist\n",
        "from tensorflow.keras.models import Sequential\n",
        "from tensorflow.keras.layers import Conv2D, MaxPooling2D, Flatten, Dense\n",
        "from tensorflow.keras.utils import to_categorical\n",
        "(X_train, y_train), (X_test, y_test) = mnist.load_data()\n",
        "X_train = X_train.reshape((X_train.shape[0], 28, 28, 1)).astype('float32') / 255\n",
        "X_test = X_test.reshape((X_test.shape[0], 28, 28, 1)).astype('float32') / 255\n",
        "y_train = to_categorical(y_train)\n",
        "y_test = to_categorical(y_test)\n",
        "model = Sequential()\n",
        "model.add(Conv2D(32, (3, 3), activation='relu', input_shape=(28, 28, 1)))\n",
        "model.add(MaxPooling2D((2, 2)))\n",
        "model.add(Conv2D(64, (3, 3), activation='relu'))\n",
        "model.add(MaxPooling2D((2, 2)))\n",
        "model.add(Conv2D(64, (3, 3), activation='relu'))\n",
        "model.add(Flatten())\n",
        "model.add(Dense(64, activation='relu'))\n",
        "model.add(Dense(10, activation='softmax'))\n",
        "model.compile(optimizer='adam', loss='categorical_crossentropy', metrics=['accuracy'])\n",
        "model.fit(X_train, y_train, epochs=5, batch_size=64, validation_data=(X_test, y_test))\n",
        "test_loss, test_acc = model.evaluate(X_test, y_test)\n",
        "print('Test Accuracy:', test_acc)"
      ]
    },
    {
      "cell_type": "code",
      "source": [
        "#Develop python code for processing and analyzing text data with suitable word embedding techniques for any application of your choice with appropriate benchmark datasets.\n",
        "import numpy as np\n",
        "from tensorflow.keras.datasets import imdb\n",
        "from tensorflow.keras.preprocessing.sequence import pad_sequences\n",
        "from tensorflow.keras.models import Sequential\n",
        "from tensorflow.keras.layers import Embedding, Flatten, Dense\n",
        "max_features = 10000\n",
        "maxlen = 100\n",
        "(X_train, y_train), (X_test, y_test) = imdb.load_data(num_words=max_features)\n",
        "X_train = pad_sequences(X_train, maxlen=maxlen)\n",
        "X_test = pad_sequences(X_test, maxlen=maxlen)\n",
        "embedding_dim = 50\n",
        "model = Sequential()\n",
        "model.add(Embedding(max_features, embedding_dim, input_length=maxlen))\n",
        "model.add(Flatten())\n",
        "model.add(Dense(32, activation='relu'))\n",
        "model.add(Dense(1, activation='sigmoid'))\n",
        "model.compile(optimizer='adam', loss='binary_crossentropy', metrics=['accuracy'])\n",
        "history = model.fit(X_train, y_train, epochs=10, batch_size=32, validation_split=0.2)\n",
        "test_loss, test_acc = model.evaluate(X_test, y_test)\n",
        "print('Test Accuracy:', test_acc)"
      ],
      "metadata": {
        "colab": {
          "base_uri": "https://localhost:8080/"
        },
        "id": "MD-qHJaTM-wg",
        "outputId": "788b1907-b893-4aae-a35b-2d7362b89242"
      },
      "execution_count": 2,
      "outputs": [
        {
          "output_type": "stream",
          "name": "stdout",
          "text": [
            "Downloading data from https://storage.googleapis.com/tensorflow/tf-keras-datasets/imdb.npz\n",
            "17464789/17464789 [==============================] - 0s 0us/step\n",
            "Epoch 1/10\n",
            "625/625 [==============================] - 9s 13ms/step - loss: 0.4442 - accuracy: 0.7778 - val_loss: 0.3455 - val_accuracy: 0.8478\n",
            "Epoch 2/10\n",
            "625/625 [==============================] - 7s 12ms/step - loss: 0.1221 - accuracy: 0.9582 - val_loss: 0.4540 - val_accuracy: 0.8164\n",
            "Epoch 3/10\n",
            "625/625 [==============================] - 8s 13ms/step - loss: 0.0127 - accuracy: 0.9984 - val_loss: 0.5525 - val_accuracy: 0.8254\n",
            "Epoch 4/10\n",
            "625/625 [==============================] - 8s 12ms/step - loss: 0.0013 - accuracy: 1.0000 - val_loss: 0.5931 - val_accuracy: 0.8318\n",
            "Epoch 5/10\n",
            "625/625 [==============================] - 7s 12ms/step - loss: 4.7035e-04 - accuracy: 1.0000 - val_loss: 0.6234 - val_accuracy: 0.8332\n",
            "Epoch 6/10\n",
            "625/625 [==============================] - 8s 13ms/step - loss: 2.6007e-04 - accuracy: 1.0000 - val_loss: 0.6500 - val_accuracy: 0.8328\n",
            "Epoch 7/10\n",
            "625/625 [==============================] - 7s 11ms/step - loss: 1.5895e-04 - accuracy: 1.0000 - val_loss: 0.6744 - val_accuracy: 0.8336\n",
            "Epoch 8/10\n",
            "625/625 [==============================] - 8s 12ms/step - loss: 1.0198e-04 - accuracy: 1.0000 - val_loss: 0.6962 - val_accuracy: 0.8342\n",
            "Epoch 9/10\n",
            "625/625 [==============================] - 7s 12ms/step - loss: 6.7153e-05 - accuracy: 1.0000 - val_loss: 0.7181 - val_accuracy: 0.8356\n",
            "Epoch 10/10\n",
            "625/625 [==============================] - 8s 12ms/step - loss: 4.5261e-05 - accuracy: 1.0000 - val_loss: 0.7387 - val_accuracy: 0.8352\n",
            "782/782 [==============================] - 2s 2ms/step - loss: 0.7276 - accuracy: 0.8358\n",
            "Test Accuracy: 0.8357599973678589\n"
          ]
        }
      ]
    },
    {
      "cell_type": "code",
      "source": [
        "#Develop python code for reconstructing and regenerating inputs using any  variant of Autoencoders for application of your choice with appropriate  benchmark datasets\n",
        "import numpy as np\n",
        "import matplotlib.pyplot as plt\n",
        "from tensorflow.keras.datasets import mnist\n",
        "from tensorflow.keras.models import Model\n",
        "from tensorflow.keras.layers import Input, Dense\n",
        "from tensorflow.keras.losses import binary_crossentropy\n",
        "from tensorflow.keras.utils import plot_model\n",
        "from tensorflow.keras import backend as K\n",
        "(X_train, _), (X_test, _) = mnist.load_data()\n",
        "X_train = X_train.astype('float32') / 255.\n",
        "X_test = X_test.astype('float32') / 255.\n",
        "X_train = X_train.reshape((len(X_train), np.prod(X_train.shape[1:])))\n",
        "X_test = X_test.reshape((len(X_test), np.prod(X_test.shape[1:])))\n",
        "input_img = Input(shape=(784,))\n",
        "encoded = Dense(256, activation='relu')(input_img)\n",
        "decoded = Dense(784, activation='sigmoid')(encoded)\n",
        "autoencoder = Model(input_img, decoded)\n",
        "def autoencoder_loss(input_img, decoded):\n",
        "    return binary_crossentropy(input_img, decoded) * 784  # 784 is the number of pixels\n",
        "autoencoder.compile(optimizer='adam', loss=autoencoder_loss)\n",
        "autoencoder.fit(X_train, X_train, epochs=10, batch_size=128, validation_data=(X_test, X_test))\n",
        "reconstructed_imgs = autoencoder.predict(X_test)\n",
        "n = 10  # Number of images to display\n",
        "plt.figure(figsize=(20, 4))\n",
        "for i in range(n):\n",
        "    # Display original images\n",
        "    ax = plt.subplot(2, n, i + 1)\n",
        "    plt.imshow(X_test[i].reshape(28, 28))\n",
        "    plt.gray()\n",
        "    ax.get_xaxis().set_visible(False)\n",
        "    ax.get_yaxis().set_visible(False)\n",
        "    ax = plt.subplot(2, n, i + 1 + n)\n",
        "    plt.imshow(reconstructed_imgs[i].reshape(28, 28))\n",
        "    plt.gray()\n",
        "    ax.get_xaxis().set_visible(False)\n",
        "    ax.get_yaxis().set_visible(False)\n",
        "plt.show()"
      ],
      "metadata": {
        "colab": {
          "base_uri": "https://localhost:8080/",
          "height": 701
        },
        "id": "fN8xQjdNN4a3",
        "outputId": "83221d2c-57a3-44e8-b330-39c720f26e71"
      },
      "execution_count": 7,
      "outputs": [
        {
          "output_type": "stream",
          "name": "stdout",
          "text": [
            "Epoch 1/10\n",
            "469/469 [==============================] - 9s 18ms/step - loss: 114.0480 - val_loss: 69.7846\n",
            "Epoch 2/10\n",
            "469/469 [==============================] - 7s 15ms/step - loss: 63.4098 - val_loss: 58.4606\n",
            "Epoch 3/10\n",
            "469/469 [==============================] - 13s 28ms/step - loss: 56.8406 - val_loss: 54.9375\n",
            "Epoch 4/10\n",
            "469/469 [==============================] - 9s 19ms/step - loss: 54.4924 - val_loss: 53.3937\n",
            "Epoch 5/10\n",
            "469/469 [==============================] - 8s 17ms/step - loss: 53.2710 - val_loss: 52.5098\n",
            "Epoch 6/10\n",
            "469/469 [==============================] - 7s 15ms/step - loss: 52.5277 - val_loss: 51.9819\n",
            "Epoch 7/10\n",
            "469/469 [==============================] - 8s 17ms/step - loss: 52.0338 - val_loss: 51.6105\n",
            "Epoch 8/10\n",
            "469/469 [==============================] - 7s 14ms/step - loss: 51.6738 - val_loss: 51.3799\n",
            "Epoch 9/10\n",
            "469/469 [==============================] - 8s 16ms/step - loss: 51.4120 - val_loss: 51.0773\n",
            "Epoch 10/10\n",
            "469/469 [==============================] - 8s 17ms/step - loss: 51.2116 - val_loss: 50.9503\n",
            "313/313 [==============================] - 1s 3ms/step\n"
          ]
        },
        {
          "output_type": "display_data",
          "data": {
            "text/plain": [
              "<Figure size 2000x400 with 20 Axes>"
            ],
            "image/png": "[encoded data removed]"
          },
          "metadata": {}
        }
      ]
    }
  ]
}